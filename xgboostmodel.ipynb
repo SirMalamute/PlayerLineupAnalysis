{
 "cells": [
  {
   "cell_type": "code",
   "execution_count": 37,
   "metadata": {},
   "outputs": [],
   "source": [
    "import pandas as pd\n",
    "from sklearn.model_selection import train_test_split\n",
    "import xgboost as xgb\n",
    "import numpy as np\n",
    "import lightgbm as lgb\n",
    "from sklearn.metrics import mean_squared_error, accuracy_score\n",
    "from sklearn import metrics\n",
    "from sklearn.linear_model import Ridge\n",
    "from sklearn.metrics import r2_score"
   ]
  },
  {
   "cell_type": "code",
   "execution_count": 8,
   "metadata": {},
   "outputs": [],
   "source": [
    "comb = pd.read_csv(\"finalized_data_model.csv\")\n",
    "X, y = comb.drop(['Name', 'Y_VAL', 'X_VAL'], axis=1), comb[['Y_VAL']]"
   ]
  },
  {
   "cell_type": "code",
   "execution_count": 9,
   "metadata": {},
   "outputs": [],
   "source": [
    "X_train, X_test, y_train, y_test = train_test_split(X, y, random_state=1, test_size=0.15)"
   ]
  },
  {
   "cell_type": "code",
   "execution_count": 35,
   "metadata": {},
   "outputs": [
    {
     "name": "stdout",
     "output_type": "stream",
     "text": [
      "[LightGBM] [Warning] Unknown parameter: learnnig_rage\n",
      "[1]\tvalid_0's l1: 2.18723\tvalid_0's l2: 9.78706\n",
      "Training until validation scores don't improve for 30 rounds\n",
      "[2]\tvalid_0's l1: 2.19035\tvalid_0's l2: 9.78047\n",
      "[3]\tvalid_0's l1: 2.18672\tvalid_0's l2: 9.76336\n",
      "[4]\tvalid_0's l1: 2.18194\tvalid_0's l2: 9.72672\n",
      "[5]\tvalid_0's l1: 2.1821\tvalid_0's l2: 9.7013\n",
      "[6]\tvalid_0's l1: 2.17788\tvalid_0's l2: 9.6935\n",
      "[7]\tvalid_0's l1: 2.17952\tvalid_0's l2: 9.70194\n",
      "[8]\tvalid_0's l1: 2.18387\tvalid_0's l2: 9.70717\n",
      "[9]\tvalid_0's l1: 2.18296\tvalid_0's l2: 9.68309\n",
      "[10]\tvalid_0's l1: 2.18146\tvalid_0's l2: 9.66864\n",
      "[11]\tvalid_0's l1: 2.18462\tvalid_0's l2: 9.67208\n",
      "[12]\tvalid_0's l1: 2.18633\tvalid_0's l2: 9.6606\n",
      "[13]\tvalid_0's l1: 2.18322\tvalid_0's l2: 9.65847\n",
      "[14]\tvalid_0's l1: 2.1831\tvalid_0's l2: 9.63823\n",
      "[15]\tvalid_0's l1: 2.18201\tvalid_0's l2: 9.64719\n",
      "[16]\tvalid_0's l1: 2.1827\tvalid_0's l2: 9.64819\n",
      "[17]\tvalid_0's l1: 2.18329\tvalid_0's l2: 9.65089\n",
      "[18]\tvalid_0's l1: 2.18474\tvalid_0's l2: 9.63732\n",
      "[19]\tvalid_0's l1: 2.18276\tvalid_0's l2: 9.62341\n",
      "[20]\tvalid_0's l1: 2.18065\tvalid_0's l2: 9.61714\n",
      "[21]\tvalid_0's l1: 2.18017\tvalid_0's l2: 9.58562\n",
      "[22]\tvalid_0's l1: 2.18283\tvalid_0's l2: 9.60385\n",
      "[23]\tvalid_0's l1: 2.18778\tvalid_0's l2: 9.62273\n",
      "[24]\tvalid_0's l1: 2.19349\tvalid_0's l2: 9.64808\n",
      "[25]\tvalid_0's l1: 2.19174\tvalid_0's l2: 9.65465\n",
      "[26]\tvalid_0's l1: 2.18699\tvalid_0's l2: 9.60763\n",
      "[27]\tvalid_0's l1: 2.18982\tvalid_0's l2: 9.61754\n",
      "[28]\tvalid_0's l1: 2.18634\tvalid_0's l2: 9.57754\n",
      "[29]\tvalid_0's l1: 2.18837\tvalid_0's l2: 9.58571\n",
      "[30]\tvalid_0's l1: 2.19311\tvalid_0's l2: 9.57613\n",
      "[31]\tvalid_0's l1: 2.19417\tvalid_0's l2: 9.57577\n",
      "[32]\tvalid_0's l1: 2.19581\tvalid_0's l2: 9.57693\n",
      "[33]\tvalid_0's l1: 2.20251\tvalid_0's l2: 9.60411\n",
      "[34]\tvalid_0's l1: 2.19504\tvalid_0's l2: 9.54792\n",
      "[35]\tvalid_0's l1: 2.19769\tvalid_0's l2: 9.55146\n",
      "[36]\tvalid_0's l1: 2.19892\tvalid_0's l2: 9.5677\n",
      "Early stopping, best iteration is:\n",
      "[6]\tvalid_0's l1: 2.17788\tvalid_0's l2: 9.6935\n"
     ]
    },
    {
     "name": "stderr",
     "output_type": "stream",
     "text": [
      "/Users/neeliyer/anaconda3/lib/python3.8/site-packages/lightgbm/engine.py:181: UserWarning: 'early_stopping_rounds' argument is deprecated and will be removed in a future release of LightGBM. Pass 'early_stopping()' callback via 'callbacks' argument instead.\n",
      "  _log_warning(\"'early_stopping_rounds' argument is deprecated and will be removed in a future release of LightGBM. \"\n"
     ]
    }
   ],
   "source": [
    "params = {\n",
    "    'task': 'train', \n",
    "    'boosting': 'gbdt',\n",
    "    'objective': 'regression',\n",
    "    'num_leaves': 10,\n",
    "    'learnnig_rage': 0.05,\n",
    "    'metric': {'l2','l1'},\n",
    "    'verbose': -1\n",
    "}\n",
    "lgb_train = lgb.Dataset(X_train, y_train)\n",
    "lgb_eval = lgb.Dataset(X_test, y_test, reference=lgb_train)\n",
    "model = lgb.train(params,\n",
    "                 train_set=lgb_train,\n",
    "                 valid_sets=lgb_eval,\n",
    "                 early_stopping_rounds=30)\n",
    "# regr = Ridge()\n",
    " \n",
    "# regr.fit(X_train, y_train)\n",
    "# print(regr.score(X_test, y_test))"
   ]
  },
  {
   "cell_type": "code",
   "execution_count": 39,
   "metadata": {},
   "outputs": [
    {
     "name": "stdout",
     "output_type": "stream",
     "text": [
      "0.011346185708847822\n"
     ]
    }
   ],
   "source": [
    "y_pred = model.predict(X_test)\n",
    "\n",
    "# accuracy check\n",
    "coefficient_of_determination = r2_score(y_test, y_pred)\n",
    "print(coefficient_of_determination)"
   ]
  },
  {
   "cell_type": "code",
   "execution_count": null,
   "metadata": {},
   "outputs": [],
   "source": []
  }
 ],
 "metadata": {
  "kernelspec": {
   "display_name": "Python 3",
   "language": "python",
   "name": "python3"
  },
  "language_info": {
   "codemirror_mode": {
    "name": "ipython",
    "version": 3
   },
   "file_extension": ".py",
   "mimetype": "text/x-python",
   "name": "python",
   "nbconvert_exporter": "python",
   "pygments_lexer": "ipython3",
   "version": "3.8.5"
  }
 },
 "nbformat": 4,
 "nbformat_minor": 4
}
