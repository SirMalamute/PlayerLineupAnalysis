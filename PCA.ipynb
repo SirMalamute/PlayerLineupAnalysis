{
 "cells": [
  {
   "cell_type": "code",
   "execution_count": 187,
   "metadata": {},
   "outputs": [],
   "source": [
    "import pandas as pd\n",
    "from sklearn.preprocessing import StandardScaler\n",
    "from unidecode import unidecode\n",
    "from sklearn.decomposition import PCA\n",
    "\n",
    "def main():\n",
    "\n",
    "    df = pd.read_csv(\"playerdata.csv\")\n",
    "\n",
    "    df.columns\n",
    "\n",
    "    names = df['Player']\n",
    "\n",
    "    df.drop([\"Rk\", \"Pos\", \"Player\", \"Player-additional\", \"Unnamed: 19\", \"Unnamed: 24\", \"Tm\"], axis=1, inplace=True)\n",
    "\n",
    "    df.columns\n",
    "\n",
    "    scaler = StandardScaler()\n",
    "\n",
    "    df = pd.DataFrame(scaler.fit_transform(df))\n",
    "\n",
    "    for i in df.columns[df.isnull().any(axis=0)]:     #---Applying Only on variables with NaN values\n",
    "        df[i].fillna(df[i].mean(),inplace=True)\n",
    "\n",
    "    pca = PCA(n_components=0.8)\n",
    "\n",
    "    df = pd.DataFrame(pca.fit_transform(df))\n",
    "\n",
    "    df[\"Name\"] = names\n",
    "\n",
    "    df\n",
    "\n",
    "    def n_format(name):\n",
    "        name = name.split(\" \")\n",
    "        name[0] = name[0][0]+'.'\n",
    "        name = \" \".join(name)\n",
    "        return unidecode(name)\n",
    "\n",
    "    df['Name'] = df['Name'].apply(lambda x: n_format(x))\n",
    "\n",
    "    df.to_csv(\"playerdatapca.csv\")"
   ]
  },
  {
   "cell_type": "code",
   "execution_count": null,
   "metadata": {},
   "outputs": [],
   "source": []
  },
  {
   "cell_type": "code",
   "execution_count": null,
   "metadata": {},
   "outputs": [],
   "source": []
  }
 ],
 "metadata": {
  "kernelspec": {
   "display_name": "Python 3",
   "language": "python",
   "name": "python3"
  },
  "language_info": {
   "codemirror_mode": {
    "name": "ipython",
    "version": 3
   },
   "file_extension": ".py",
   "mimetype": "text/x-python",
   "name": "python",
   "nbconvert_exporter": "python",
   "pygments_lexer": "ipython3",
   "version": "3.8.5"
  }
 },
 "nbformat": 4,
 "nbformat_minor": 4
}
